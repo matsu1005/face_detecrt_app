{
 "cells": [
  {
   "cell_type": "markdown",
   "metadata": {
    "colab_type": "text",
    "id": "zF9uvbXNVrVY"
   },
   "source": [
    "## パッケージのインポート"
   ]
  },
  {
   "cell_type": "markdown",
   "metadata": {
    "colab_type": "text",
    "id": "Jlchl4x2VrVg"
   },
   "source": [
    "モデルの構築に必要な TensorFlow と Keras クラスをインポートします。"
   ]
  },
  {
   "cell_type": "code",
   "execution_count": 4,
   "metadata": {
    "colab": {},
    "colab_type": "code",
    "id": "E82grprdYPI0"
   },
   "outputs": [],
   "source": [
    "import tensorflow as tf"
   ]
  },
  {
   "cell_type": "code",
   "execution_count": 5,
   "metadata": {
    "colab": {},
    "colab_type": "code",
    "id": "L1WtoaOHVrVh"
   },
   "outputs": [],
   "source": [
    "from tensorflow.keras.models import Sequential\n",
    "from tensorflow.keras.layers import Dense, Conv2D, Flatten, Dropout, MaxPooling2D\n",
    "from tensorflow.keras.preprocessing.image import ImageDataGenerator\n",
    "\n",
    "import os\n",
    "import numpy as np\n",
    "import matplotlib.pyplot as plt"
   ]
  },
  {
   "cell_type": "markdown",
   "metadata": {
    "colab_type": "text",
    "id": "8Lp-0ejxOtP1"
   },
   "source": [
    "便宜上、データセットの前処理およびネットワークの学習中に使用する変数を設定します。"
   ]
  },
  {
   "cell_type": "code",
   "execution_count": 1,
   "metadata": {
    "colab": {},
    "colab_type": "code",
    "id": "3NqNselLVrWA"
   },
   "outputs": [],
   "source": [
    "batch_size = 128\n",
    "epochs = 15\n",
    "IMG_HEIGHT = 100\n",
    "IMG_WIDTH = 100"
   ]
  },
  {
   "cell_type": "markdown",
   "metadata": {
    "colab_type": "text",
    "id": "UOoVpxFwVrWy"
   },
   "source": [
    "## データ拡張（Data augmentation）"
   ]
  },
  {
   "cell_type": "markdown",
   "metadata": {
    "colab_type": "text",
    "id": "usS13KCNVrXd"
   },
   "source": [
    "### データ拡張を同時に利用する"
   ]
  },
  {
   "cell_type": "markdown",
   "metadata": {
    "colab_type": "text",
    "id": "OC8fIsalVrXd"
   },
   "source": [
    "すべてのデータ拡張機能を適用します。ここでは、学習用画像に対して、リスケール、45度の回転、幅シフト、高さシフト、水平反転、ズームを適用しました。"
   ]
  },
  {
   "cell_type": "code",
   "execution_count": 13,
   "metadata": {
    "colab": {},
    "colab_type": "code",
    "id": "gnr2xujaVrXe"
   },
   "outputs": [],
   "source": [
    "image_gen_train = ImageDataGenerator(\n",
    "                    rescale=1./255,\n",
    "                    rotation_range=45,\n",
    "                    width_shift_range=.15,\n",
    "                    height_shift_range=.15,\n",
    "                    horizontal_flip=True,\n",
    "                    zoom_range=0.5\n",
    "                    )"
   ]
  },
  {
   "cell_type": "code",
   "execution_count": 14,
   "metadata": {
    "colab": {},
    "colab_type": "code",
    "id": "K0Efxy7EVrXh"
   },
   "outputs": [
    {
     "name": "stdout",
     "output_type": "stream",
     "text": [
      "Found 529 images belonging to 3 classes.\n"
     ]
    }
   ],
   "source": [
    "train_data_gen = image_gen_train.flow_from_directory(batch_size=batch_size,\n",
    "                                                     directory='../web_API/tensoflow/data/train',\n",
    "                                                     shuffle=True,\n",
    "                                                     target_size=(IMG_HEIGHT, IMG_WIDTH),\n",
    "                                                     class_mode='binary')"
   ]
  },
  {
   "cell_type": "markdown",
   "metadata": {
    "colab_type": "text",
    "id": "J8cUd7FXVrXq"
   },
   "source": [
    "### 検証データジェネレータの構築"
   ]
  },
  {
   "cell_type": "markdown",
   "metadata": {
    "colab_type": "text",
    "id": "a99fDBt7VrXr"
   },
   "source": [
    "一般に、データ拡張は学習サンプルのみに適用します。今回は、 `ImageDataGenerator` を使用して検証画像に対してリスケールのみを実施し、バッチに変換します。"
   ]
  },
  {
   "cell_type": "code",
   "execution_count": 15,
   "metadata": {
    "colab": {},
    "colab_type": "code",
    "id": "54x0aNbKVrXr"
   },
   "outputs": [],
   "source": [
    "image_gen_val = ImageDataGenerator(rescale=1./255)"
   ]
  },
  {
   "cell_type": "code",
   "execution_count": 16,
   "metadata": {
    "colab": {},
    "colab_type": "code",
    "id": "1PCHKzI8VrXv"
   },
   "outputs": [
    {
     "name": "stdout",
     "output_type": "stream",
     "text": [
      "Found 170 images belonging to 3 classes.\n"
     ]
    }
   ],
   "source": [
    "val_data_gen = image_gen_val.flow_from_directory(batch_size=batch_size,\n",
    "                                                 directory='../web_API/tensoflow/data/test',\n",
    "                                                 target_size=(IMG_HEIGHT, IMG_WIDTH),\n",
    "                                                 class_mode='binary')"
   ]
  },
  {
   "cell_type": "markdown",
   "metadata": {
    "colab_type": "text",
    "id": "yQGhdqHFVrXx"
   },
   "source": [
    "### ドロップアウト（dropout）"
   ]
  },
  {
   "cell_type": "markdown",
   "metadata": {
    "colab_type": "text",
    "id": "2Iq5TAH_VrXx"
   },
   "source": [
    "過学習を避けるもう一つの方法は、ネットワークに *ドロップアウト* を導入することです。これは、ネットワークにおいて重みを小さくする正則化の方式で、これによって重みの値の分布がより規則的になり、少ない学習データに対する過学習を減らすことができます。ドロップアウトはこのチュートリアルで利用される正則化手法の一つです。\n",
    "\n",
    "ドロップアウトをレイヤーに適用すると、学習プロセス中に適用されたレイヤーのうちランダムに出力ユニットをドロップアウト（ゼロに設定）します。ドロップアウトは、入力値として0.1、0.2、0.4といった形式の小数をとります。これは、適用されたレイヤーからランダムに出力単位の10％、20％、または40％をドロップアウトすることを意味します。\n",
    "\n",
    "特定のレイヤーに0.1ドロップアウトを適用すると、各学習エポックにおいて出力ユニットの10％がランダムに0にされます。\n",
    "\n",
    "この新しいドロップアウト機能を使用したネットワークアーキテクチャを作成し、異なる畳み込みレイヤーや全接続レイヤーに適用してみましょう。"
   ]
  },
  {
   "cell_type": "markdown",
   "metadata": {
    "colab_type": "text",
    "id": "DyxxXRmVVrXy"
   },
   "source": [
    "## モデル構築"
   ]
  },
  {
   "cell_type": "markdown",
   "metadata": {
    "colab_type": "text",
    "id": "1Ba2LjtkVrXy"
   },
   "source": [
    "ここでは、ドロップアウトを最初と最後の max pool 層に適用します。ドロップアウトを適用すると、各学習エポック中にニューロンの20％がランダムにゼロに設定されます。これにより、学習データセットに対する過学習を避けることができます。"
   ]
  },
  {
   "cell_type": "code",
   "execution_count": 17,
   "metadata": {
    "colab": {},
    "colab_type": "code",
    "id": "2fjio8EsVrXz"
   },
   "outputs": [],
   "source": [
    "model = Sequential([\n",
    "    Conv2D(32, 3, padding='same', activation='relu', \n",
    "           input_shape=(IMG_HEIGHT, IMG_WIDTH ,3)),\n",
    "    MaxPooling2D(),\n",
    "    Dropout(0.2),\n",
    "    Conv2D(32, 3, padding='same', activation='relu'),\n",
    "    MaxPooling2D(),\n",
    "    Conv2D(32, 3, padding='same', activation='relu'),\n",
    "    MaxPooling2D(),\n",
    "    Dropout(0.45),\n",
    "    Flatten(),\n",
    "    Dense(512, activation='relu'),\n",
    "    Dense(3, activation='softmax')\n",
    "])"
   ]
  },
  {
   "cell_type": "code",
   "execution_count": null,
   "metadata": {},
   "outputs": [],
   "source": []
  },
  {
   "cell_type": "markdown",
   "metadata": {
    "colab_type": "text",
    "id": "tpTgIxWAVrX0"
   },
   "source": [
    "### モデルのコンパイル"
   ]
  },
  {
   "cell_type": "markdown",
   "metadata": {
    "colab_type": "text",
    "id": "1osvc_iTVrX1"
   },
   "source": [
    "ネットワークにドロップアウトを導入した後、モデルをコンパイルし、レイヤーの概要を表示します。"
   ]
  },
  {
   "cell_type": "code",
   "execution_count": 18,
   "metadata": {
    "colab": {},
    "colab_type": "code",
    "id": "OkIJhS-WVrX1"
   },
   "outputs": [
    {
     "name": "stdout",
     "output_type": "stream",
     "text": [
      "Model: \"sequential_1\"\n",
      "_________________________________________________________________\n",
      "Layer (type)                 Output Shape              Param #   \n",
      "=================================================================\n",
      "conv2d_3 (Conv2D)            (None, 100, 100, 32)      896       \n",
      "_________________________________________________________________\n",
      "max_pooling2d_3 (MaxPooling2 (None, 50, 50, 32)        0         \n",
      "_________________________________________________________________\n",
      "dropout_2 (Dropout)          (None, 50, 50, 32)        0         \n",
      "_________________________________________________________________\n",
      "conv2d_4 (Conv2D)            (None, 50, 50, 32)        9248      \n",
      "_________________________________________________________________\n",
      "max_pooling2d_4 (MaxPooling2 (None, 25, 25, 32)        0         \n",
      "_________________________________________________________________\n",
      "conv2d_5 (Conv2D)            (None, 25, 25, 32)        9248      \n",
      "_________________________________________________________________\n",
      "max_pooling2d_5 (MaxPooling2 (None, 12, 12, 32)        0         \n",
      "_________________________________________________________________\n",
      "dropout_3 (Dropout)          (None, 12, 12, 32)        0         \n",
      "_________________________________________________________________\n",
      "flatten_1 (Flatten)          (None, 4608)              0         \n",
      "_________________________________________________________________\n",
      "dense_2 (Dense)              (None, 512)               2359808   \n",
      "_________________________________________________________________\n",
      "dense_3 (Dense)              (None, 3)                 1539      \n",
      "=================================================================\n",
      "Total params: 2,380,739\n",
      "Trainable params: 2,380,739\n",
      "Non-trainable params: 0\n",
      "_________________________________________________________________\n"
     ]
    }
   ],
   "source": [
    "model.compile(optimizer='adam',\n",
    "              loss='sparse_categorical_crossentropy',\n",
    "              metrics=['accuracy'])\n",
    "\n",
    "model.summary()"
   ]
  },
  {
   "cell_type": "markdown",
   "metadata": {
    "colab_type": "text",
    "id": "7KiDshEUVrX6"
   },
   "source": [
    "### モデルの学習"
   ]
  },
  {
   "cell_type": "markdown",
   "metadata": {
    "colab_type": "text",
    "id": "NFj0oVqVVrX6"
   },
   "source": [
    "学習サンプルにデータ拡張を導入し、ネットワークにドロップアウトを追加した後、この新しいネットワークを学習します:"
   ]
  },
  {
   "cell_type": "code",
   "execution_count": 19,
   "metadata": {
    "colab": {},
    "colab_type": "code",
    "id": "GWxHs_luVrX7"
   },
   "outputs": [
    {
     "name": "stdout",
     "output_type": "stream",
     "text": [
      "Epoch 1/30\n",
      "3/3 [==============================] - 3s 985ms/step - loss: 3.9923 - accuracy: 0.3594 - val_loss: 1.3205 - val_accuracy: 0.3594\n",
      "Epoch 2/30\n",
      "3/3 [==============================] - 2s 826ms/step - loss: 1.4370 - accuracy: 0.4349 - val_loss: 1.0722 - val_accuracy: 0.4844\n",
      "Epoch 3/30\n",
      "3/3 [==============================] - 2s 671ms/step - loss: 1.0627 - accuracy: 0.4908 - val_loss: 1.1000 - val_accuracy: 0.5078\n",
      "Epoch 4/30\n",
      "3/3 [==============================] - 2s 575ms/step - loss: 1.0705 - accuracy: 0.4872 - val_loss: 1.0992 - val_accuracy: 0.4609\n",
      "Epoch 5/30\n",
      "3/3 [==============================] - 2s 601ms/step - loss: 1.0834 - accuracy: 0.4689 - val_loss: 1.0852 - val_accuracy: 0.5000\n",
      "Epoch 6/30\n",
      "3/3 [==============================] - 2s 585ms/step - loss: 1.0823 - accuracy: 0.4542 - val_loss: 1.0807 - val_accuracy: 0.4844\n",
      "Epoch 7/30\n",
      "3/3 [==============================] - 3s 879ms/step - loss: 1.0665 - accuracy: 0.4922 - val_loss: 1.0817 - val_accuracy: 0.4375\n",
      "Epoch 8/30\n",
      "3/3 [==============================] - 2s 723ms/step - loss: 1.0653 - accuracy: 0.4725 - val_loss: 1.0642 - val_accuracy: 0.4609\n",
      "Epoch 9/30\n",
      "3/3 [==============================] - 2s 727ms/step - loss: 1.0634 - accuracy: 0.4725 - val_loss: 1.0582 - val_accuracy: 0.4688\n",
      "Epoch 10/30\n",
      "3/3 [==============================] - 2s 813ms/step - loss: 1.0742 - accuracy: 0.4557 - val_loss: 1.0569 - val_accuracy: 0.4531\n",
      "Epoch 11/30\n",
      "3/3 [==============================] - 2s 609ms/step - loss: 1.0586 - accuracy: 0.4652 - val_loss: 1.0449 - val_accuracy: 0.4766\n",
      "Epoch 12/30\n",
      "3/3 [==============================] - 2s 606ms/step - loss: 1.0380 - accuracy: 0.5018 - val_loss: 1.0428 - val_accuracy: 0.5312\n",
      "Epoch 13/30\n",
      "3/3 [==============================] - 2s 647ms/step - loss: 1.0433 - accuracy: 0.4908 - val_loss: 1.0393 - val_accuracy: 0.5078\n",
      "Epoch 14/30\n",
      "3/3 [==============================] - 2s 826ms/step - loss: 1.0594 - accuracy: 0.4479 - val_loss: 1.0381 - val_accuracy: 0.4844\n",
      "Epoch 15/30\n",
      "3/3 [==============================] - 3s 841ms/step - loss: 1.0262 - accuracy: 0.5026 - val_loss: 1.0301 - val_accuracy: 0.4688\n",
      "Epoch 16/30\n",
      "3/3 [==============================] - 2s 624ms/step - loss: 1.0218 - accuracy: 0.5018 - val_loss: 1.0373 - val_accuracy: 0.5078\n",
      "Epoch 17/30\n",
      "3/3 [==============================] - 2s 634ms/step - loss: 1.0203 - accuracy: 0.5201 - val_loss: 1.0018 - val_accuracy: 0.5391\n",
      "Epoch 18/30\n",
      "3/3 [==============================] - 2s 802ms/step - loss: 1.0297 - accuracy: 0.4714 - val_loss: 1.0042 - val_accuracy: 0.5156\n",
      "Epoch 19/30\n",
      "3/3 [==============================] - 2s 613ms/step - loss: 1.0115 - accuracy: 0.4835 - val_loss: 0.9948 - val_accuracy: 0.5312\n",
      "Epoch 20/30\n",
      "3/3 [==============================] - 3s 836ms/step - loss: 0.9939 - accuracy: 0.5208 - val_loss: 0.9723 - val_accuracy: 0.5469\n",
      "Epoch 21/30\n",
      "3/3 [==============================] - 3s 904ms/step - loss: 1.0085 - accuracy: 0.4725 - val_loss: 1.0269 - val_accuracy: 0.4688\n",
      "Epoch 22/30\n",
      "3/3 [==============================] - 2s 814ms/step - loss: 0.9794 - accuracy: 0.5026 - val_loss: 0.9578 - val_accuracy: 0.5078\n",
      "Epoch 23/30\n",
      "3/3 [==============================] - 2s 802ms/step - loss: 0.9830 - accuracy: 0.5130 - val_loss: 0.9428 - val_accuracy: 0.5078\n",
      "Epoch 24/30\n",
      "3/3 [==============================] - 2s 573ms/step - loss: 0.9338 - accuracy: 0.5275 - val_loss: 0.9438 - val_accuracy: 0.4844\n",
      "Epoch 25/30\n",
      "3/3 [==============================] - 3s 836ms/step - loss: 0.9663 - accuracy: 0.5365 - val_loss: 0.9344 - val_accuracy: 0.5312\n",
      "Epoch 26/30\n",
      "3/3 [==============================] - 3s 834ms/step - loss: 0.9303 - accuracy: 0.5495 - val_loss: 0.9181 - val_accuracy: 0.5156\n",
      "Epoch 27/30\n",
      "3/3 [==============================] - 3s 867ms/step - loss: 0.9644 - accuracy: 0.5234 - val_loss: 0.9175 - val_accuracy: 0.5469\n",
      "Epoch 28/30\n",
      "3/3 [==============================] - 3s 918ms/step - loss: 1.0289 - accuracy: 0.4835 - val_loss: 0.9671 - val_accuracy: 0.6094\n",
      "Epoch 29/30\n",
      "3/3 [==============================] - 2s 787ms/step - loss: 0.9610 - accuracy: 0.5286 - val_loss: 0.8921 - val_accuracy: 0.5391\n",
      "Epoch 30/30\n",
      "3/3 [==============================] - 2s 599ms/step - loss: 0.9526 - accuracy: 0.5348 - val_loss: 0.9469 - val_accuracy: 0.5391\n"
     ]
    }
   ],
   "source": [
    "history = model.fit_generator(\n",
    "    train_data_gen,\n",
    "    steps_per_epoch=3,\n",
    "    epochs=30,\n",
    "    validation_data=val_data_gen,\n",
    "    validation_steps=1\n",
    ")"
   ]
  },
  {
   "cell_type": "code",
   "execution_count": null,
   "metadata": {},
   "outputs": [],
   "source": [
    "# history.__dict__"
   ]
  },
  {
   "cell_type": "markdown",
   "metadata": {
    "colab_type": "text",
    "id": "bbdyqZdxVrYA"
   },
   "source": [
    "### モデルの可視化"
   ]
  },
  {
   "cell_type": "markdown",
   "metadata": {
    "colab_type": "text",
    "id": "OgvF2nt7OtR7"
   },
   "source": [
    "学習後に新しいモデルを可視化すると、過学習が前回よりも大幅に少ないことがわかります。より多くのエポックでモデルを学習すると、精度はさらに向上するはずです。"
   ]
  },
  {
   "cell_type": "code",
   "execution_count": 20,
   "metadata": {
    "colab": {},
    "colab_type": "code",
    "id": "7BTeMuNAVrYC"
   },
   "outputs": [
    {
     "data": {
      "image/png": "[encoded data removed]",
      "text/plain": [
       "<Figure size 576x576 with 2 Axes>"
      ]
     },
     "metadata": {
      "needs_background": "light"
     },
     "output_type": "display_data"
    }
   ],
   "source": [
    "acc = history.history['accuracy']\n",
    "val_acc = history.history['val_accuracy']\n",
    "\n",
    "loss = history.history['loss']\n",
    "val_loss = history.history['val_loss']\n",
    "\n",
    "epochs_range = range(30)\n",
    "\n",
    "plt.figure(figsize=(8, 8))\n",
    "plt.subplot(1, 2, 1)\n",
    "plt.plot(epochs_range, acc, label='Training Accuracy')\n",
    "plt.plot(epochs_range, val_acc, label='Validation Accuracy')\n",
    "plt.legend(loc='lower right')\n",
    "plt.title('Training and Validation Accuracy')\n",
    "\n",
    "plt.subplot(1, 2, 2)\n",
    "plt.plot(epochs_range, loss, label='Training Loss')\n",
    "plt.plot(epochs_range, val_loss, label='Validation Loss')\n",
    "plt.legend(loc='upper right')\n",
    "plt.title('Training and Validation Loss')\n",
    "plt.show()"
   ]
  },
  {
   "cell_type": "code",
   "execution_count": null,
   "metadata": {},
   "outputs": [],
   "source": []
  },
  {
   "cell_type": "code",
   "execution_count": null,
   "metadata": {},
   "outputs": [],
   "source": []
  },
  {
   "cell_type": "markdown",
   "metadata": {},
   "source": [
    "## モデルの精度が低いのでVGG16を導入してファインチューンングを行なってモデルの作成を行う。"
   ]
  },
  {
   "cell_type": "code",
   "execution_count": 21,
   "metadata": {},
   "outputs": [],
   "source": [
    "import os\n",
    "from keras.applications.vgg16 import VGG16, preprocess_input, decode_predictions\n",
    "from keras.preprocessing.image import ImageDataGenerator\n",
    "from keras.models import Sequential, Model\n",
    "from keras.layers import Input, Activation, Dropout, Flatten, Dense\n",
    "from keras.preprocessing.image import ImageDataGenerator\n",
    "from keras import optimizers\n",
    "import numpy as np\n",
    "import time"
   ]
  },
  {
   "cell_type": "code",
   "execution_count": 23,
   "metadata": {},
   "outputs": [
    {
     "name": "stdout",
     "output_type": "stream",
     "text": [
      "Model: \"model_1\"\n",
      "_________________________________________________________________\n",
      "Layer (type)                 Output Shape              Param #   \n",
      "=================================================================\n",
      "input_2 (InputLayer)         [(None, 100, 100, 3)]     0         \n",
      "_________________________________________________________________\n",
      "block1_conv1 (Conv2D)        (None, 100, 100, 64)      1792      \n",
      "_________________________________________________________________\n",
      "block1_conv2 (Conv2D)        (None, 100, 100, 64)      36928     \n",
      "_________________________________________________________________\n",
      "block1_pool (MaxPooling2D)   (None, 50, 50, 64)        0         \n",
      "_________________________________________________________________\n",
      "block2_conv1 (Conv2D)        (None, 50, 50, 128)       73856     \n",
      "_________________________________________________________________\n",
      "block2_conv2 (Conv2D)        (None, 50, 50, 128)       147584    \n",
      "_________________________________________________________________\n",
      "block2_pool (MaxPooling2D)   (None, 25, 25, 128)       0         \n",
      "_________________________________________________________________\n",
      "block3_conv1 (Conv2D)        (None, 25, 25, 256)       295168    \n",
      "_________________________________________________________________\n",
      "block3_conv2 (Conv2D)        (None, 25, 25, 256)       590080    \n",
      "_________________________________________________________________\n",
      "block3_conv3 (Conv2D)        (None, 25, 25, 256)       590080    \n",
      "_________________________________________________________________\n",
      "block3_pool (MaxPooling2D)   (None, 12, 12, 256)       0         \n",
      "_________________________________________________________________\n",
      "block4_conv1 (Conv2D)        (None, 12, 12, 512)       1180160   \n",
      "_________________________________________________________________\n",
      "block4_conv2 (Conv2D)        (None, 12, 12, 512)       2359808   \n",
      "_________________________________________________________________\n",
      "block4_conv3 (Conv2D)        (None, 12, 12, 512)       2359808   \n",
      "_________________________________________________________________\n",
      "block4_pool (MaxPooling2D)   (None, 6, 6, 512)         0         \n",
      "_________________________________________________________________\n",
      "block5_conv1 (Conv2D)        (None, 6, 6, 512)         2359808   \n",
      "_________________________________________________________________\n",
      "block5_conv2 (Conv2D)        (None, 6, 6, 512)         2359808   \n",
      "_________________________________________________________________\n",
      "block5_conv3 (Conv2D)        (None, 6, 6, 512)         2359808   \n",
      "_________________________________________________________________\n",
      "block5_pool (MaxPooling2D)   (None, 3, 3, 512)         0         \n",
      "_________________________________________________________________\n",
      "sequential_3 (Sequential)    (None, 3)                 1180675   \n",
      "=================================================================\n",
      "Total params: 15,895,363\n",
      "Trainable params: 8,260,099\n",
      "Non-trainable params: 7,635,264\n",
      "_________________________________________________________________\n"
     ]
    }
   ],
   "source": [
    "input_tensor = Input(shape=(IMG_HEIGHT, IMG_WIDTH, 3))\n",
    "vgg16 = VGG16(include_top=False, weights='imagenet', input_tensor=input_tensor)\n",
    "# VGG16の図の緑色の部分（FC層）の作成\n",
    "top_model = Sequential()\n",
    "top_model.add(Flatten(input_shape=vgg16.output_shape[1:]))\n",
    "top_model.add(Dense(256, activation='relu'))\n",
    "top_model.add(Dropout(0.5))\n",
    "top_model.add(Dense(3, activation='softmax'))\n",
    "\n",
    "# VGG16とFC層を結合してモデルを作成（完成図が上の図）\n",
    "vgg_model = Model(vgg16.input, top_model(vgg16.output))\n",
    "\n",
    "# VGG16の図の青色の部分は重みを固定（frozen）\n",
    "for layer in vgg_model.layers[:15]:\n",
    "    layer.trainable = False\n",
    "\n",
    "# 多クラス分類を指定\n",
    "vgg_model.compile(loss='sparse_categorical_crossentropy',\n",
    "          optimizer='adam',\n",
    "          metrics=['accuracy'])\n",
    "\n",
    "vgg_model.summary()"
   ]
  },
  {
   "cell_type": "code",
   "execution_count": 36,
   "metadata": {},
   "outputs": [
    {
     "name": "stdout",
     "output_type": "stream",
     "text": [
      "WARNING:tensorflow:`period` argument is deprecated. Please use `save_freq` to specify the frequency in number of batches seen.\n",
      "Epoch 1/20\n",
      "3/3 [==============================] - 8s 3s/step - loss: 0.4936 - accuracy: 0.7656 - val_loss: 0.3698 - val_accuracy: 0.8438\n",
      "Epoch 2/20\n",
      "3/3 [==============================] - 11s 4s/step - loss: 0.4264 - accuracy: 0.8059 - val_loss: 0.3738 - val_accuracy: 0.8594\n",
      "Epoch 3/20\n",
      "3/3 [==============================] - 11s 4s/step - loss: 0.3768 - accuracy: 0.8464 - val_loss: 0.4593 - val_accuracy: 0.8906\n",
      "Epoch 4/20\n",
      "3/3 [==============================] - 12s 4s/step - loss: 0.3816 - accuracy: 0.8095 - val_loss: 0.1788 - val_accuracy: 0.9375\n",
      "Epoch 5/20\n",
      "3/3 [==============================] - ETA: 0s - loss: 0.3860 - accuracy: 0.8498\n",
      "Epoch 00005: saving model to training_3/cp-0005.ckpt\n",
      "3/3 [==============================] - 9s 3s/step - loss: 0.3860 - accuracy: 0.8498 - val_loss: 0.4060 - val_accuracy: 0.8828\n",
      "Epoch 6/20\n",
      "3/3 [==============================] - 9s 3s/step - loss: 0.3518 - accuracy: 0.8571 - val_loss: 0.4936 - val_accuracy: 0.8828\n",
      "Epoch 7/20\n",
      "3/3 [==============================] - 12s 4s/step - loss: 0.3410 - accuracy: 0.8516 - val_loss: 0.2729 - val_accuracy: 0.8984\n",
      "Epoch 8/20\n",
      "3/3 [==============================] - 12s 4s/step - loss: 0.3557 - accuracy: 0.8672 - val_loss: 0.4590 - val_accuracy: 0.8984\n",
      "Epoch 9/20\n",
      "3/3 [==============================] - 12s 4s/step - loss: 0.3505 - accuracy: 0.8672 - val_loss: 0.2762 - val_accuracy: 0.9141\n",
      "Epoch 10/20\n",
      "3/3 [==============================] - ETA: 0s - loss: 0.3087 - accuracy: 0.8646\n",
      "Epoch 00010: saving model to training_3/cp-0010.ckpt\n",
      "3/3 [==============================] - 14s 5s/step - loss: 0.3087 - accuracy: 0.8646 - val_loss: 0.2085 - val_accuracy: 0.9688\n",
      "Epoch 11/20\n",
      "3/3 [==============================] - 13s 4s/step - loss: 0.3114 - accuracy: 0.8791 - val_loss: 0.2085 - val_accuracy: 0.9766\n",
      "Epoch 12/20\n",
      "3/3 [==============================] - 9s 3s/step - loss: 0.3512 - accuracy: 0.8608 - val_loss: 0.2676 - val_accuracy: 0.9531\n",
      "Epoch 13/20\n",
      "3/3 [==============================] - 12s 4s/step - loss: 0.4272 - accuracy: 0.8315 - val_loss: 0.3106 - val_accuracy: 0.9062\n",
      "Epoch 14/20\n",
      "3/3 [==============================] - 13s 4s/step - loss: 0.3049 - accuracy: 0.8755 - val_loss: 0.2347 - val_accuracy: 0.9609\n",
      "Epoch 15/20\n",
      "3/3 [==============================] - ETA: 0s - loss: 0.3149 - accuracy: 0.8864\n",
      "Epoch 00015: saving model to training_3/cp-0015.ckpt\n",
      "3/3 [==============================] - 9s 3s/step - loss: 0.3149 - accuracy: 0.8864 - val_loss: 0.2271 - val_accuracy: 0.9062\n",
      "Epoch 16/20\n",
      "3/3 [==============================] - 9s 3s/step - loss: 0.3214 - accuracy: 0.8388 - val_loss: 0.4344 - val_accuracy: 0.9219\n",
      "Epoch 17/20\n",
      "3/3 [==============================] - 13s 4s/step - loss: 0.3362 - accuracy: 0.8791 - val_loss: 0.1924 - val_accuracy: 0.9844\n",
      "Epoch 18/20\n",
      "3/3 [==============================] - 12s 4s/step - loss: 0.2381 - accuracy: 0.9115 - val_loss: 0.1224 - val_accuracy: 0.9531\n",
      "Epoch 19/20\n",
      "3/3 [==============================] - 13s 4s/step - loss: 0.2186 - accuracy: 0.9323 - val_loss: 0.3160 - val_accuracy: 0.9375\n",
      "Epoch 20/20\n",
      "3/3 [==============================] - ETA: 0s - loss: 0.2063 - accuracy: 0.9297\n",
      "Epoch 00020: saving model to training_3/cp-0020.ckpt\n",
      "3/3 [==============================] - 15s 5s/step - loss: 0.2063 - accuracy: 0.9297 - val_loss: 0.1615 - val_accuracy: 0.9844\n"
     ]
    }
   ],
   "source": [
    "# ファイル名に(`str.format`を使って)エポック数を埋め込みます\n",
    "checkpoint_path = \"training_3/cp-{epoch:04d}.ckpt\"\n",
    "checkpoint_dir = os.path.dirname(checkpoint_path)\n",
    "\n",
    "cp_callback = tf.keras.callbacks.ModelCheckpoint(\n",
    "    checkpoint_path, verbose=1, save_weights_only=True,\n",
    "    # 重みを5エポックごとに保存します\n",
    "    period=5)\n",
    "\n",
    "history2 = vgg_model.fit_generator(\n",
    "    train_data_gen,\n",
    "    steps_per_epoch=3,\n",
    "    epochs=20,\n",
    "    validation_data=val_data_gen,\n",
    "    validation_steps=1,\n",
    "    callbacks = [cp_callback]\n",
    ")"
   ]
  },
  {
   "cell_type": "code",
   "execution_count": 37,
   "metadata": {},
   "outputs": [
    {
     "data": {
      "image/png": "[encoded data removed]",
      "text/plain": [
       "<Figure size 576x576 with 2 Axes>"
      ]
     },
     "metadata": {
      "needs_background": "light"
     },
     "output_type": "display_data"
    }
   ],
   "source": [
    "acc = history2.history['accuracy']\n",
    "val_acc = history2.history['val_accuracy']\n",
    "\n",
    "loss = history2.history['loss']\n",
    "val_loss = history2.history['val_loss']\n",
    "\n",
    "epochs_range = range(20)\n",
    "\n",
    "\n",
    "plt.figure(figsize=(8, 8))\n",
    "plt.subplot(1, 2, 1)\n",
    "plt.plot(epochs_range, acc, label='Training Accuracy')\n",
    "plt.plot(epochs_range, val_acc, label='Validation Accuracy')\n",
    "plt.legend(loc='lower right')\n",
    "plt.title('Training and Validation Accuracy')\n",
    "\n",
    "plt.subplot(1, 2, 2)\n",
    "plt.plot(epochs_range, loss, label='Training Loss')\n",
    "plt.plot(epochs_range, val_loss, label='Validation Loss')\n",
    "plt.legend(loc='upper right')\n",
    "plt.title('Training and Validation Loss')\n",
    "plt.show()"
   ]
  }
 ],
 "metadata": {
  "accelerator": "GPU",
  "colab": {
   "collapsed_sections": [],
   "name": "classification.ipynb",
   "private_outputs": true,
   "provenance": [],
   "toc_visible": true
  },
  "kernelspec": {
   "display_name": "Python 3",
   "language": "python",
   "name": "python3"
  },
  "language_info": {
   "codemirror_mode": {
    "name": "ipython",
    "version": 3
   },
   "file_extension": ".py",
   "mimetype": "text/x-python",
   "name": "python",
   "nbconvert_exporter": "python",
   "pygments_lexer": "ipython3",
   "version": "3.7.6"
  }
 },
 "nbformat": 4,
 "nbformat_minor": 4
}
